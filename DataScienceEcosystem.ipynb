{
 "cells": [
  {
   "cell_type": "markdown",
   "id": "aeea2695-2ac3-4bfa-9754-54c0ed7aafd8",
   "metadata": {},
   "source": [
    "# Data Science Tools and Ecosystem"
   ]
  },
  {
   "cell_type": "markdown",
   "id": "072190c3-f20e-4865-a322-fc0630b2ab10",
   "metadata": {},
   "source": [
    "In this notebook, Data Science Tools and Ecosystem are summarized."
   ]
  },
  {
   "cell_type": "markdown",
   "id": "c294c25d-69ea-49cd-867b-9ab7e41f9e77",
   "metadata": {},
   "source": [
    "**Objectives:**\n",
    "\n",
    "- Present commonly used Data Science Tools\n",
    "- Introduction to programming languages used in data science such as Python, R and scala\n",
    "- Managing a project via GitHub"
   ]
  },
  {
   "cell_type": "markdown",
   "id": "2bcd015e-03a5-4a34-8f55-7b037a1f093b",
   "metadata": {},
   "source": [
    "Some of the popular languages that Data Scientists use are:\n",
    "1. Python\n",
    "2. R\n",
    "3. Scala"
   ]
  },
  {
   "cell_type": "markdown",
   "id": "905dc7e4-0b4a-413c-9dc6-9ec667a5f350",
   "metadata": {},
   "source": [
    "Some of the commonly used libraries used by Data Scientists include:\n",
    "1. pandas\n",
    "2. ggplot\n",
    "3. caret"
   ]
  },
  {
   "cell_type": "markdown",
   "id": "6e22c54d-97ef-492e-81df-8ddf60c08d70",
   "metadata": {},
   "source": [
    "| Data Science Tools |\n",
    "----------------------\n",
    "| Jupyter Lab   |\n",
    "| Google Colab |\n",
    "| RStudio |"
   ]
  },
  {
   "cell_type": "markdown",
   "id": "1e00c9c0-f0d9-4dc9-af5b-402626bc3d95",
   "metadata": {},
   "source": [
    "### Below are a few examples of evaluating arithmetic expressions in Python"
   ]
  },
  {
   "cell_type": "code",
   "execution_count": 5,
   "id": "85ab724f-bbc1-46f0-bb08-840092f86757",
   "metadata": {},
   "outputs": [
    {
     "data": {
      "text/plain": [
       "17"
      ]
     },
     "execution_count": 5,
     "metadata": {},
     "output_type": "execute_result"
    }
   ],
   "source": [
    "# This a simple arithmetic expression to mutiply then add integers\n",
    "(3 * 4) + 5"
   ]
  },
  {
   "cell_type": "code",
   "execution_count": 6,
   "id": "42d1966c-5783-4aed-9ea7-b5d6d76b5f66",
   "metadata": {},
   "outputs": [
    {
     "data": {
      "text/plain": [
       "33.333333333333336"
      ]
     },
     "execution_count": 6,
     "metadata": {},
     "output_type": "execute_result"
    }
   ],
   "source": [
    "# This will convert 200 minutes to hours by diving by 60\n",
    "200 / 6"
   ]
  },
  {
   "cell_type": "markdown",
   "id": "14145e3b-96e0-4328-bb23-d611e239a1a2",
   "metadata": {},
   "source": [
    "## Author\n",
    "Topan Sergiu"
   ]
  },
  {
   "cell_type": "code",
   "execution_count": null,
   "id": "48eab7c4-61d0-4298-ad56-940b512c4ac5",
   "metadata": {},
   "outputs": [],
   "source": []
  }
 ],
 "metadata": {
  "kernelspec": {
   "display_name": "Python 3 (ipykernel)",
   "language": "python",
   "name": "python3"
  },
  "language_info": {
   "codemirror_mode": {
    "name": "ipython",
    "version": 3
   },
   "file_extension": ".py",
   "mimetype": "text/x-python",
   "name": "python",
   "nbconvert_exporter": "python",
   "pygments_lexer": "ipython3",
   "version": "3.10.0"
  }
 },
 "nbformat": 4,
 "nbformat_minor": 5
}
